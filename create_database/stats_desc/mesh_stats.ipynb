{
 "cells": [
  {
   "cell_type": "markdown",
   "id": "7457ea29",
   "metadata": {},
   "source": [
    "# Analyse descriptive des codes MeSH\n",
    "Ce notebook calcule :\n",
    "* la similarité (Jaccard) entre `pubmed_mesh` et `mesh_from_gliner` pour chaque cas clinique ;\n",
    "* des statistiques descriptives (min, max, moyenne, écart‑type, quartiles) sur le **nombre** de codes dans chaque colonne.\n",
    "\n",
    "> **Dataset utilisé :** `clairedhx/edu3-clinical-fr-mesh-2` (split `train`). Assurez‑vous d’avoir installé `datasets` : `pip install datasets`."
   ]
  },
  {
   "cell_type": "code",
   "execution_count": 1,
   "id": "afa4573d",
   "metadata": {},
   "outputs": [
    {
     "name": "stderr",
     "output_type": "stream",
     "text": [
      "/home/cldechau/Documents/AOC/codes/AOC_0/aoc-env/lib/python3.12/site-packages/tqdm/auto.py:21: TqdmWarning: IProgress not found. Please update jupyter and ipywidgets. See https://ipywidgets.readthedocs.io/en/stable/user_install.html\n",
      "  from .autonotebook import tqdm as notebook_tqdm\n"
     ]
    }
   ],
   "source": [
    "from datasets import load_dataset\n",
    "import pandas as pd, numpy as np\n"
   ]
  },
  {
   "cell_type": "code",
   "execution_count": 2,
   "id": "12804800",
   "metadata": {},
   "outputs": [
    {
     "name": "stderr",
     "output_type": "stream",
     "text": [
      "Generating train split: 100%|██████████| 309/309 [00:00<00:00, 24883.65 examples/s]"
     ]
    },
    {
     "name": "stdout",
     "output_type": "stream",
     "text": [
      "Nombre d'exemples : 309\n"
     ]
    },
    {
     "name": "stderr",
     "output_type": "stream",
     "text": [
      "\n"
     ]
    }
   ],
   "source": [
    "ds = load_dataset(\"clairedhx/edu3-clinical-fr-mesh-2\", split=\"train\")\n",
    "print(\"Nombre d'exemples :\", len(ds))\n"
   ]
  },
  {
   "cell_type": "code",
   "execution_count": 3,
   "id": "081d0e81",
   "metadata": {},
   "outputs": [
    {
     "data": {
      "text/html": [
       "<div>\n",
       "<style scoped>\n",
       "    .dataframe tbody tr th:only-of-type {\n",
       "        vertical-align: middle;\n",
       "    }\n",
       "\n",
       "    .dataframe tbody tr th {\n",
       "        vertical-align: top;\n",
       "    }\n",
       "\n",
       "    .dataframe thead th {\n",
       "        text-align: right;\n",
       "    }\n",
       "</style>\n",
       "<table border=\"1\" class=\"dataframe\">\n",
       "  <thead>\n",
       "    <tr style=\"text-align: right;\">\n",
       "      <th></th>\n",
       "      <th>jaccard</th>\n",
       "      <th>n_gliner</th>\n",
       "      <th>n_pubmed</th>\n",
       "    </tr>\n",
       "  </thead>\n",
       "  <tbody>\n",
       "    <tr>\n",
       "      <th>0</th>\n",
       "      <td>0.166667</td>\n",
       "      <td>8</td>\n",
       "      <td>6</td>\n",
       "    </tr>\n",
       "    <tr>\n",
       "      <th>1</th>\n",
       "      <td>0.142857</td>\n",
       "      <td>5</td>\n",
       "      <td>11</td>\n",
       "    </tr>\n",
       "    <tr>\n",
       "      <th>2</th>\n",
       "      <td>0.058824</td>\n",
       "      <td>10</td>\n",
       "      <td>8</td>\n",
       "    </tr>\n",
       "    <tr>\n",
       "      <th>3</th>\n",
       "      <td>0.125000</td>\n",
       "      <td>2</td>\n",
       "      <td>7</td>\n",
       "    </tr>\n",
       "    <tr>\n",
       "      <th>4</th>\n",
       "      <td>0.000000</td>\n",
       "      <td>5</td>\n",
       "      <td>0</td>\n",
       "    </tr>\n",
       "  </tbody>\n",
       "</table>\n",
       "</div>"
      ],
      "text/plain": [
       "    jaccard  n_gliner  n_pubmed\n",
       "0  0.166667         8         6\n",
       "1  0.142857         5        11\n",
       "2  0.058824        10         8\n",
       "3  0.125000         2         7\n",
       "4  0.000000         5         0"
      ]
     },
     "execution_count": 3,
     "metadata": {},
     "output_type": "execute_result"
    }
   ],
   "source": [
    "def jaccard(a, b):\n",
    "    if not a and not b:\n",
    "        return np.nan\n",
    "    inter = len(set(a) & set(b))\n",
    "    union = len(set(a) | set(b))\n",
    "    return inter / union if union else np.nan\n",
    "\n",
    "jaccards = []\n",
    "n_gliner = []\n",
    "n_pubmed = []\n",
    "\n",
    "for ex in ds:\n",
    "    m_g = ex[\"mesh_from_gliner\"]\n",
    "    m_p = ex[\"pubmed_mesh\"]\n",
    "    n_gliner.append(len(m_g))\n",
    "    n_pubmed.append(len(m_p))\n",
    "    jaccards.append(jaccard(m_g, m_p))\n",
    "\n",
    "df = pd.DataFrame({\n",
    "    \"jaccard\": jaccards,\n",
    "    \"n_gliner\": n_gliner,\n",
    "    \"n_pubmed\": n_pubmed\n",
    "})\n",
    "df.head()\n"
   ]
  },
  {
   "cell_type": "code",
   "execution_count": 4,
   "id": "341044ad",
   "metadata": {},
   "outputs": [
    {
     "name": "stdout",
     "output_type": "stream",
     "text": [
      "### Statistiques descriptives Jaccard\n"
     ]
    },
    {
     "data": {
      "text/plain": [
       "count    309.000000\n",
       "mean       0.078070\n",
       "std        0.077960\n",
       "min        0.000000\n",
       "25%        0.000000\n",
       "50%        0.071429\n",
       "75%        0.125000\n",
       "max        0.428571\n",
       "Name: jaccard, dtype: float64"
      ]
     },
     "metadata": {},
     "output_type": "display_data"
    },
    {
     "name": "stdout",
     "output_type": "stream",
     "text": [
      "\n",
      "### Nombre de codes MeSH (GLiNER)\n"
     ]
    },
    {
     "data": {
      "text/plain": [
       "count    309.000000\n",
       "mean       5.818770\n",
       "std        2.986904\n",
       "min        1.000000\n",
       "25%        4.000000\n",
       "50%        5.000000\n",
       "75%        8.000000\n",
       "max       18.000000\n",
       "Name: n_gliner, dtype: float64"
      ]
     },
     "metadata": {},
     "output_type": "display_data"
    },
    {
     "name": "stdout",
     "output_type": "stream",
     "text": [
      "\n",
      "### Nombre de codes MeSH (PubMed)\n"
     ]
    },
    {
     "data": {
      "text/plain": [
       "count    309.000000\n",
       "mean       6.556634\n",
       "std        3.350838\n",
       "min        0.000000\n",
       "25%        6.000000\n",
       "50%        7.000000\n",
       "75%        9.000000\n",
       "max       14.000000\n",
       "Name: n_pubmed, dtype: float64"
      ]
     },
     "metadata": {},
     "output_type": "display_data"
    }
   ],
   "source": [
    "print(\"### Statistiques descriptives Jaccard\")\n",
    "display(df[\"jaccard\"].describe())\n",
    "\n",
    "print(\"\\n### Nombre de codes MeSH (GLiNER)\")\n",
    "display(df[\"n_gliner\"].describe())\n",
    "\n",
    "print(\"\\n### Nombre de codes MeSH (PubMed)\")\n",
    "display(df[\"n_pubmed\"].describe())\n"
   ]
  },
  {
   "cell_type": "code",
   "execution_count": 8,
   "id": "26ac0128",
   "metadata": {},
   "outputs": [
    {
     "name": "stderr",
     "output_type": "stream",
     "text": [
      "Filter: 100%|██████████| 309/309 [00:00<00:00, 16441.78 examples/s]"
     ]
    },
    {
     "name": "stdout",
     "output_type": "stream",
     "text": [
      "47 lignes sur 309 n'ont aucun code MeSH PubMed\n"
     ]
    },
    {
     "name": "stderr",
     "output_type": "stream",
     "text": [
      "\n"
     ]
    }
   ],
   "source": [
    "# nombre de lignes avec 0 codes MESH recup de Pubmed\n",
    "empty_pubmed = ds.filter(lambda ex: len(ex[\"pubmed_mesh\"]) == 0)\n",
    "\n",
    "print(f\"{len(empty_pubmed)} lignes sur {len(ds)} n'ont aucun code MeSH PubMed\")"
   ]
  }
 ],
 "metadata": {
  "kernelspec": {
   "display_name": "aoc-env",
   "language": "python",
   "name": "python3"
  },
  "language_info": {
   "codemirror_mode": {
    "name": "ipython",
    "version": 3
   },
   "file_extension": ".py",
   "mimetype": "text/x-python",
   "name": "python",
   "nbconvert_exporter": "python",
   "pygments_lexer": "ipython3",
   "version": "3.12.3"
  }
 },
 "nbformat": 4,
 "nbformat_minor": 5
}
