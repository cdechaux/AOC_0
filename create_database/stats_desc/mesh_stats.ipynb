{
 "cells": [
  {
   "cell_type": "markdown",
   "id": "7457ea29",
   "metadata": {},
   "source": [
    "# Analyse descriptive des codes MeSH\n",
    "Ce notebook calcule :\n",
    "* la similarité (Jaccard) entre `pubmed_mesh` et `mesh_from_gliner` pour chaque cas clinique ;\n",
    "* des statistiques descriptives (min, max, moyenne, écart‑type, quartiles) sur le **nombre** de codes dans chaque colonne.\n",
    "\n",
    "> **Dataset utilisé :** `clairedhx/edu3-clinical-fr-mesh-2` (split `train`). Assurez‑vous d’avoir installé `datasets` : `pip install datasets`."
   ]
  },
  {
   "cell_type": "code",
   "execution_count": null,
   "id": "afa4573d",
   "metadata": {},
   "outputs": [],
   "source": [
    "from datasets import load_dataset\n",
    "import pandas as pd, numpy as np\n"
   ]
  },
  {
   "cell_type": "code",
   "execution_count": null,
   "id": "12804800",
   "metadata": {},
   "outputs": [],
   "source": [
    "ds = load_dataset(\"clairedhx/edu3-clinical-fr-mesh-2\", split=\"train\")\n",
    "print(\"Nombre d'exemples :\", len(ds))\n"
   ]
  },
  {
   "cell_type": "code",
   "execution_count": null,
   "id": "081d0e81",
   "metadata": {},
   "outputs": [],
   "source": [
    "def jaccard(a, b):\n",
    "    if not a and not b:\n",
    "        return np.nan\n",
    "    inter = len(set(a) & set(b))\n",
    "    union = len(set(a) | set(b))\n",
    "    return inter / union if union else np.nan\n",
    "\n",
    "jaccards = []\n",
    "n_gliner = []\n",
    "n_pubmed = []\n",
    "\n",
    "for ex in ds:\n",
    "    m_g = ex[\"mesh_from_gliner\"]\n",
    "    m_p = ex[\"pubmed_mesh\"]\n",
    "    n_gliner.append(len(m_g))\n",
    "    n_pubmed.append(len(m_p))\n",
    "    jaccards.append(jaccard(m_g, m_p))\n",
    "\n",
    "df = pd.DataFrame({\n",
    "    \"jaccard\": jaccards,\n",
    "    \"n_gliner\": n_gliner,\n",
    "    \"n_pubmed\": n_pubmed\n",
    "})\n",
    "df.head()\n"
   ]
  },
  {
   "cell_type": "code",
   "execution_count": null,
   "id": "341044ad",
   "metadata": {},
   "outputs": [],
   "source": [
    "print(\"### Statistiques descriptives Jaccard\")\n",
    "display(df[\"jaccard\"].describe())\n",
    "\n",
    "print(\"\\n### Nombre de codes MeSH (GLiNER)\")\n",
    "display(df[\"n_gliner\"].describe())\n",
    "\n",
    "print(\"\\n### Nombre de codes MeSH (PubMed)\")\n",
    "display(df[\"n_pubmed\"].describe())\n"
   ]
  }
 ],
 "metadata": {
  "language_info": {
   "name": "python"
  }
 },
 "nbformat": 4,
 "nbformat_minor": 5
}
